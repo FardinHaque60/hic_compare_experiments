{
 "cells": [
  {
   "cell_type": "code",
   "execution_count": 1,
   "id": "e209158a-8099-42fb-be1c-d22f659e2ec8",
   "metadata": {},
   "outputs": [],
   "source": [
    "import numpy as np\n",
    "import pandas as pd\n",
    "from matplotlib import pyplot as plt\n",
    "import fanc\n",
    "import fanc.plotting\n",
    "from scipy import ndimage as ndi\n",
    "import matplotlib.patches as patches\n",
    "from scipy.ndimage import zoom\n",
    "from mpl_toolkits.axes_grid1 import make_axes_locatable\n",
    "import os\n",
    "import seaborn as sns\n",
    "from sklearn.decomposition import PCA\n",
    "import math\n",
    "from skimage.metrics import structural_similarity as ssim\n",
    "import cv2"
   ]
  },
  {
   "cell_type": "code",
   "execution_count": 8,
   "id": "f6e82389-bc59-4cfb-925c-5a6edcb73f3f",
   "metadata": {},
   "outputs": [],
   "source": [
    "def clipped_zoom(img, zoom_factor, **kwargs):\n",
    "    h, w = img.shape[:2]\n",
    "    zoom_tuple = (zoom_factor,) * 2 + (1,) * (img.ndim - 2)\n",
    "    if zoom_factor < 1:\n",
    "        zh = int(np.round(h * zoom_factor))\n",
    "        zw = int(np.round(w * zoom_factor))\n",
    "        top = (h - zh) // 2\n",
    "        left = (w - zw) // 2\n",
    "        out = np.zeros_like(img)\n",
    "        out[top:top+zh, left:left+zw] = zoom(img, zoom_tuple, **kwargs)\n",
    "    elif zoom_factor > 1:\n",
    "        zh = int(np.round(h / zoom_factor))\n",
    "        zw = int(np.round(w / zoom_factor))\n",
    "        top = (h - zh) // 2\n",
    "        left = (w - zw) // 2\n",
    "        out = zoom(img[top:top+zh, left:left+zw], zoom_tuple, **kwargs)\n",
    "        trim_top = ((out.shape[0] - h) // 2)\n",
    "        trim_left = ((out.shape[1] - w) // 2)\n",
    "        out = out[trim_top:trim_top+h, trim_left:trim_left+w]\n",
    "    else:\n",
    "        out = img\n",
    "    return out\n",
    "\n",
    "def collect_windows(matrix, window_size):\n",
    "    \"\"\" Extracts all sliding windows from the matrix for PCA. \"\"\"\n",
    "    m, n = matrix.shape\n",
    "    windows = []\n",
    "\n",
    "    for i in range(0, m - window_size + 1):\n",
    "        for j in range(0, n - window_size + 1):\n",
    "            window = matrix[i:i+window_size, j:j+window_size].flatten()\n",
    "            windows.append(window)  # Collect all windows\n",
    "\n",
    "    return np.array(windows)\n",
    "\n",
    "def tv_denoising(matrix, weight=0.1):\n",
    "    matrix = matrix.astype(np.float32)  # Ensure correct data type\n",
    "    denoised = cv2.ximgproc.createFastGlobalSmoother(weight).filter(matrix)\n",
    "    return denoised\n",
    "\n",
    "def clip_rotate(matrix):\n",
    "    zm = clipped_zoom(matrix, 0.7)\n",
    "    rot_clipped = ndi.rotate(zm, 45, reshape=False)\n",
    "    return rot_clipped"
   ]
  },
  {
   "cell_type": "code",
   "execution_count": 9,
   "id": "d133b082-f430-4ce8-a9c1-777aa2dadcb4",
   "metadata": {},
   "outputs": [
    {
     "name": "stdout",
     "output_type": "stream",
     "text": [
      "loaded hic\n"
     ]
    }
   ],
   "source": [
    "winsize = \"3mb\"\n",
    "wdir = \"../data/dlbcl/\"\n",
    "region_pairs = \"hg38_chr2_{}_win_100kb_step.bed\".format(winsize)\n",
    "\n",
    "gained = pd.read_csv(wdir + 'gained_features.tsv', delimiter=',', usecols=[0, 1, 2, 3, 4, 5], header=None, index_col=[0])\n",
    "lost = pd.read_csv(wdir + 'lost_features.tsv', delimiter=',', usecols=[0, 1, 2, 3, 4, 5], header=None, index_col=[0])\n",
    "\n",
    "regions = pd.read_csv(wdir + region_pairs, sep='\\t', header=None)\n",
    "\n",
    "patient_hic = fanc.load(wdir + \"ukm_patient_fixed_le_25kb_chr2.hic\")\n",
    "control_hic = fanc.load(wdir + \"ukm_control_fixed_le_25kb_chr2.hic\")\n",
    "\n",
    "reg = 1448\n",
    "\n",
    "window_start, window_end = regions.loc[reg][1:3]\n",
    "\n",
    "region_string = \"chr2:{}-{}\".format(window_start, window_end)\n",
    "\n",
    "patient_region_sub = patient_hic[region_string, region_string].data\n",
    "control_region_sub = control_hic[region_string, region_string].data\n",
    "\n",
    "min_v = min(\n",
    "    [\n",
    "        np.min(np.extract(patient_region_sub>0 , patient_region_sub)),\n",
    "        np.min(np.extract(control_region_sub>0 , control_region_sub))\n",
    "    ]\n",
    ")\n",
    "\n",
    "patient_region_sub += min_v\n",
    "control_region_sub += min_v\n",
    "print(\"loaded hic\")"
   ]
  },
  {
   "cell_type": "code",
   "execution_count": 10,
   "id": "00ceb92b-a098-4716-9e14-776974ff21cf",
   "metadata": {},
   "outputs": [
    {
     "ename": "AttributeError",
     "evalue": "module 'cv2' has no attribute 'ximgproc'",
     "output_type": "error",
     "traceback": [
      "\u001b[0;31m---------------------------------------------------------------------------\u001b[0m",
      "\u001b[0;31mAttributeError\u001b[0m                            Traceback (most recent call last)",
      "Cell \u001b[0;32mIn[10], line 10\u001b[0m\n\u001b[1;32m      7\u001b[0m rot_control \u001b[38;5;241m=\u001b[39m clip_rotate(control_region_sub)\n\u001b[1;32m      9\u001b[0m \u001b[38;5;66;03m# Apply PCA\u001b[39;00m\n\u001b[0;32m---> 10\u001b[0m pca_matrix1 \u001b[38;5;241m=\u001b[39m \u001b[43mtv_denoising\u001b[49m\u001b[43m(\u001b[49m\u001b[43mpatient_region_sub\u001b[49m\u001b[43m,\u001b[49m\u001b[43m \u001b[49m\u001b[43mweight\u001b[49m\u001b[43m)\u001b[49m\n\u001b[1;32m     11\u001b[0m rot_pca1 \u001b[38;5;241m=\u001b[39m clip_rotate(pca_matrix1) \n\u001b[1;32m     13\u001b[0m pca_matrix2 \u001b[38;5;241m=\u001b[39m tv_denoising(control_region_sub, weight)\n",
      "Cell \u001b[0;32mIn[8], line 38\u001b[0m, in \u001b[0;36mtv_denoising\u001b[0;34m(matrix, weight)\u001b[0m\n\u001b[1;32m     36\u001b[0m \u001b[38;5;28;01mdef\u001b[39;00m \u001b[38;5;21mtv_denoising\u001b[39m(matrix, weight\u001b[38;5;241m=\u001b[39m\u001b[38;5;241m0.1\u001b[39m):\n\u001b[1;32m     37\u001b[0m     matrix \u001b[38;5;241m=\u001b[39m matrix\u001b[38;5;241m.\u001b[39mastype(np\u001b[38;5;241m.\u001b[39mfloat32)  \u001b[38;5;66;03m# Ensure correct data type\u001b[39;00m\n\u001b[0;32m---> 38\u001b[0m     denoised \u001b[38;5;241m=\u001b[39m \u001b[43mcv2\u001b[49m\u001b[38;5;241;43m.\u001b[39;49m\u001b[43mximgproc\u001b[49m\u001b[38;5;241m.\u001b[39mcreateFastGlobalSmoother(weight)\u001b[38;5;241m.\u001b[39mfilter(matrix)\n\u001b[1;32m     39\u001b[0m     \u001b[38;5;28;01mreturn\u001b[39;00m denoised\n",
      "\u001b[0;31mAttributeError\u001b[0m: module 'cv2' has no attribute 'ximgproc'"
     ]
    }
   ],
   "source": [
    "# Set var size\n",
    "weight = 0.1\n",
    "\n",
    "# raw matrices\n",
    "rot_patient = clip_rotate(patient_region_sub)\n",
    "\n",
    "rot_control = clip_rotate(control_region_sub)\n",
    "\n",
    "# Apply PCA\n",
    "pca_matrix1 = tv_denoising(patient_region_sub, weight)\n",
    "rot_pca1 = clip_rotate(pca_matrix1) \n",
    "\n",
    "pca_matrix2 = tv_denoising(control_region_sub, weight)\n",
    "rot_pca2 = clip_rotate(pca_matrix2)\n",
    "\n",
    "# Compute PCA difference matrix (patient - control)\n",
    "diff_pca1 = pca_matrix1 - pca_matrix2 # pca_matrix1 - pca_matrix2\n",
    "rot_diff_pca1 = clip_rotate(diff_pca1)\n",
    "\n",
    "# subtract inverse (control - patient)\n",
    "diff_pca2 = pca_matrix2 - pca_matrix1\n",
    "rot_diff_pca2 = clip_rotate(diff_pca2)\n",
    "\n",
    "# log2(obs/exp) calc\n",
    "safe_div = pca_matrix1 / pca_matrix2\n",
    "safe_div[safe_div == 0] = np.nan\n",
    "safe_div = abs(safe_div)\n",
    "log_pca1 =  np.log2(safe_div) # pca_matrix1 / pca_matrix2 of pca applied\n",
    "rot_log_pca1 = clip_rotate(log_pca1)\n",
    "\n",
    "log_pca2 =  np.log2(patient_region_sub / control_region_sub) # pca_matrix1 / pca_matrix2 of normal matrices\n",
    "rot_log_pca2 = clip_rotate(log_pca2)"
   ]
  },
  {
   "cell_type": "code",
   "execution_count": null,
   "id": "424e74e6-3a0e-42d1-aca4-b2f69ed5e85a",
   "metadata": {},
   "outputs": [],
   "source": []
  }
 ],
 "metadata": {
  "kernelspec": {
   "display_name": "Python 3 (ipykernel)",
   "language": "python",
   "name": "python3"
  },
  "language_info": {
   "codemirror_mode": {
    "name": "ipython",
    "version": 3
   },
   "file_extension": ".py",
   "mimetype": "text/x-python",
   "name": "python",
   "nbconvert_exporter": "python",
   "pygments_lexer": "ipython3",
   "version": "3.12.8"
  }
 },
 "nbformat": 4,
 "nbformat_minor": 5
}
